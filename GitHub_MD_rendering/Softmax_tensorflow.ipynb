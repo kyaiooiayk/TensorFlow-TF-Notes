{
 "cells": [
  {
   "cell_type": "code",
   "execution_count": 1,
   "metadata": {},
   "outputs": [],
   "source": [
    "import numpy as np\n",
    "import matplotlib.pyplot as plt\n",
    "import tensorflow as tf\n",
    "from keras.datasets import mnist\n",
    "from keras.utils import np_utils"
   ]
  },
  {
   "cell_type": "markdown",
   "metadata": {},
   "source": [
    "# Tensorflow"
   ]
  },
  {
   "cell_type": "markdown",
   "metadata": {},
   "source": [
    "TensorFlow provides multiple APIs. The lowest level API--TensorFlow Core-- provides you with complete programming control. We recommend TensorFlow Core for machine learning researchers and others who require fine levels of control over their models"
   ]
  },
  {
   "cell_type": "markdown",
   "metadata": {},
   "source": [
    "## Hello World"
   ]
  },
  {
   "cell_type": "markdown",
   "metadata": {},
   "source": [
    "We can think of TensorFlow Core programs as consisting of two discrete sections:\n",
    "\n",
    "- Building the computational graph.\n",
    "- Running the computational graph."
   ]
  },
  {
   "cell_type": "code",
   "execution_count": 3,
   "metadata": {},
   "outputs": [
    {
     "data": {
      "text/plain": [
       "<tf.Tensor 'Const:0' shape=() dtype=string>"
      ]
     },
     "execution_count": 3,
     "metadata": {},
     "output_type": "execute_result"
    }
   ],
   "source": [
    "# note that this is simply telling tensorflow to \n",
    "# create a constant operation, nothing gets\n",
    "# executed until we start a session and run it\n",
    "hello = tf.constant('Hello, TensorFlow!')\n",
    "hello"
   ]
  },
  {
   "cell_type": "code",
   "execution_count": 4,
   "metadata": {},
   "outputs": [
    {
     "name": "stdout",
     "output_type": "stream",
     "text": [
      "b'Hello, TensorFlow!'\n"
     ]
    }
   ],
   "source": [
    "# start the session and run the graph\n",
    "with tf.Session() as sess:\n",
    "    print(sess.run(hello))"
   ]
  },
  {
   "cell_type": "markdown",
   "metadata": {},
   "source": [
    "We can think of tensorflow as a system to define our computation, and using the operation that we've defined it will construct a computation graph (where each operation becomes a node in the graph). The computation graph that we've defined will not be `run` unless we give it some context and explicitly tell it to do so. In this case, we create the `Session` that encapsulates the environment in which the objects are evaluated (execute the operations that are defined in the graph).\n",
    "\n",
    "Consider another example that simply add and multiply two constant numbers."
   ]
  },
  {
   "cell_type": "code",
   "execution_count": 5,
   "metadata": {},
   "outputs": [
    {
     "name": "stdout",
     "output_type": "stream",
     "text": [
      "mutiply:  6.0\n",
      "add:  5.0\n",
      "add:  5.0\n"
     ]
    }
   ],
   "source": [
    "a = tf.constant(2.0, tf.float32)\n",
    "b = tf.constant(3.0) # also tf.float32 implicitly\n",
    "c = a + b\n",
    "\n",
    "with tf.Session() as sess:\n",
    "    print('mutiply: ', sess.run(a * b))\n",
    "    print('add: ', sess.run(c)) # note that we can define the add operation outside \n",
    "    print('add: ', sess.run(a + b)) # or inside the .run()"
   ]
  },
  {
   "cell_type": "markdown",
   "metadata": {},
   "source": [
    "The example above is not especially interesting because it always produces a constant result. A graph can be parameterized to accept external inputs, known as `placeholders`. Think of it as the input data we would give to machine learning algorithm at some point.\n",
    "\n",
    "We can do the same operation as above by first defining a `placeholder` (note that we must specify the data type). Then `feed` in values using `feed_dict` when we `run` it."
   ]
  },
  {
   "cell_type": "code",
   "execution_count": 6,
   "metadata": {},
   "outputs": [
    {
     "name": "stdout",
     "output_type": "stream",
     "text": [
      "mutiply:  6.0\n",
      "add:  5.0\n"
     ]
    }
   ],
   "source": [
    "a = tf.placeholder(tf.float32)\n",
    "b = tf.placeholder(tf.float32)\n",
    "\n",
    "# define some operations\n",
    "add = a + b\n",
    "mul = a * b\n",
    "\n",
    "with tf.Session() as sess:\n",
    "    print('mutiply: ', sess.run(mul, feed_dict = {a: 2, b: 3}))\n",
    "    print('add: ', sess.run(add, feed_dict = {a: 2, b: 3}))"
   ]
  },
  {
   "cell_type": "markdown",
   "metadata": {},
   "source": [
    "Some matrix operations are the same compared to numpy. e.g. \t"
   ]
  },
  {
   "cell_type": "code",
   "execution_count": 7,
   "metadata": {},
   "outputs": [
    {
     "name": "stdout",
     "output_type": "stream",
     "text": [
      "[[3. 4.]\n",
      " [5. 6.]\n",
      " [6. 7.]]\n",
      "[3.5 5.5 6.5]\n",
      "[1 1 1]\n",
      "[3.5 5.5 6.5]\n",
      "[1 1 1]\n"
     ]
    }
   ],
   "source": [
    "c = np.array([[3.,4], [5.,6], [6.,7]])\n",
    "print(c)\n",
    "print(np.mean(c, axis = 1))\n",
    "print(np.argmax(c, axis = 1))\n",
    "\n",
    "with tf.Session() as sess:\n",
    "    result = sess.run(tf.reduce_mean(c, axis = 1))\n",
    "    print(result)\n",
    "    print(sess.run(tf.argmax(c, axis = 1)))"
   ]
  },
  {
   "cell_type": "markdown",
   "metadata": {},
   "source": [
    "The functionality of `numpy.mean` and `tensorflow.reduce_mean` are the same. When axis argument parameter is 1, it computes mean across (3,4) and (5,6) and (6,7), so 1 defines across which axis the mean is computed (axis = 1, means the operation is along the column, so it will compute the mean for each row). When it is 0, the mean is computed across(3,5,6) and (4,6,7), and so on. The same can be applied to argmax which returns the index that contains the maximum value along an axis."
   ]
  },
  {
   "cell_type": "markdown",
   "metadata": {},
   "source": [
    "## Linear Regression"
   ]
  },
  {
   "cell_type": "markdown",
   "metadata": {},
   "source": [
    "We'll start off by writing a simple linear regression model. To do so, we first need to understand the difference between `tf.Variable` and `tf.placeholder`. \n",
    "\n",
    "> [Stackoverflow](http://stackoverflow.com/questions/36693740/whats-the-difference-between-tf-placeholder-and-tf-variable). The difference is that with `tf.Variable` you have to provide an initial value when you declare it. With `tf.placeholder` you don't have to provide an initial value and you can specify it at run time with the `feed_dict` argument inside `Session.run`.\n",
    "> In short, we will use `tf.Variable` for trainable variables such as weights (W) and biases (B) for our model. On the other hand, `tf.placeholder` is used to feed actual training examples.\n",
    "\n",
    "Also note that, constants are automatically initialized when we call `tf.constant`, and their value can never change. By contrast, variables are not initialized when we call `tf.Variable`. To initialize all the variables in a TensorFlow program, we must explicitly call a special operation called `tf.global_variables_initializer()`. Things will become clearer with the example below."
   ]
  },
  {
   "cell_type": "code",
   "execution_count": 8,
   "metadata": {},
   "outputs": [],
   "source": [
    "# Parameters\n",
    "learning_rate = 0.01  # learning rate for the optimizer (gradient descent)\n",
    "n_epochs = 1000  # number of iterations to train the model\n",
    "display_epoch = 100  # display the cost for every display_step iteration"
   ]
  },
  {
   "cell_type": "code",
   "execution_count": 9,
   "metadata": {},
   "outputs": [],
   "source": [
    "# make up some trainig data\n",
    "X_train = np.asarray([3.3, 4.4, 5.5, 6.71, 6.93, 4.168, 9.779, 6.182, 7.59, \n",
    "                      2.167, 7.042, 10.791, 5.313, 7.997, 5.654, 9.27, 3.1], dtype = np.float32)\n",
    "y_train = np.asarray([1.7, 2.76, 2.09, 3.19, 1.694, 1.573, 3.366, 2.596, 2.53, \n",
    "                      1.221, 2.827, 3.465, 1.65, 2.904, 2.42, 2.94, 1.3], dtype = np.float32)\n",
    "\n",
    "# placeholder for the input data\n",
    "X = tf.placeholder(tf.float32)\n",
    "Y = tf.placeholder(tf.float32)\n",
    "\n",
    "# give the model's parameter a randomized initial value\n",
    "W = tf.Variable(np.random.randn(), tf.float32, name = 'weight')\n",
    "b = tf.Variable(np.random.randn(), tf.float32, name = 'bias')\n",
    "\n",
    "# Construct the formula for the linear model\n",
    "# we can also do\n",
    "# pred = tf.add(tf.multiply(X, W), b)\n",
    "pred = W * X + b\n",
    "\n",
    "# we then define the loss function that the model is going to optimize on,\n",
    "# here we use the standard mean squared error, which is sums the squares of the\n",
    "# prediction and the true y divided by the number of observations, note\n",
    "# that we're computing the difference between the prediction and the y label\n",
    "# from the placeholder\n",
    "cost = tf.reduce_mean(tf.pow(pred - Y, 2))\n",
    "\n",
    "# after defining the model structure and the function to optimize on,\n",
    "# tensorflow provides several optimizers that can do optimization task\n",
    "# for us, the simplest one being gradient descent\n",
    "optimizer = tf.train.GradientDescentOptimizer(learning_rate)\n",
    "train = optimizer.minimize(cost)\n",
    "\n",
    "# initializing the variables\n",
    "init = tf.global_variables_initializer()"
   ]
  },
  {
   "cell_type": "code",
   "execution_count": 10,
   "metadata": {
    "scrolled": false
   },
   "outputs": [
    {
     "name": "stdout",
     "output_type": "stream",
     "text": [
      "Epoch: 100, cost: 0.58211350440979\n",
      "Epoch: 200, cost: 0.41723793745040894\n",
      "Epoch: 300, cost: 0.3158383071422577\n",
      "Epoch: 400, cost: 0.2534768581390381\n",
      "Epoch: 500, cost: 0.21512417495250702\n",
      "Epoch: 600, cost: 0.19153699278831482\n",
      "Epoch: 700, cost: 0.17703068256378174\n",
      "Epoch: 800, cost: 0.1681092530488968\n",
      "Epoch: 900, cost: 0.16262249648571014\n",
      "Epoch: 1000, cost: 0.15924812853336334\n",
      "Optimization Finished!\n",
      "Training cost: 0.15924812853336334, W: 0.2810680568218231, b: 0.5901336073875427\n"
     ]
    },
    {
     "data": {
      "image/png": "[encoded data removed]",
      "text/plain": [
       "<Figure size 576x432 with 1 Axes>"
      ]
     },
     "metadata": {
      "image/png": {
       "height": 361,
       "width": 488
      }
     },
     "output_type": "display_data"
    }
   ],
   "source": [
    "# change default figure and font size\n",
    "plt.rcParams['figure.figsize'] = 8, 6 \n",
    "plt.rcParams['font.size'] = 12\n",
    "\n",
    "# Launch the graph\n",
    "with tf.Session() as sess:\n",
    "    sess.run(init)\n",
    "\n",
    "    # Fit on all the training data\n",
    "    feed_dict = {X: X_train, Y: y_train}\n",
    "    for epoch in range(n_epochs):\n",
    "        sess.run(train, feed_dict = feed_dict)\n",
    "\n",
    "        # Display logs per epoch step\n",
    "        if (epoch + 1) % display_epoch == 0:\n",
    "            # run the cost to obtain the value for the cost function at each step\n",
    "            c = sess.run(cost, feed_dict = feed_dict)\n",
    "            print(\"Epoch: {}, cost: {}\".format(epoch + 1, c))\n",
    "\n",
    "    print(\"Optimization Finished!\")\n",
    "    c = sess.run(cost, feed_dict = feed_dict)\n",
    "    weight = sess.run(W)\n",
    "    bias = sess.run(b)\n",
    "    print(\"Training cost: {}, W: {}, b: {}\".format(c, weight, bias))\n",
    "\n",
    "    # graphic display\n",
    "    plt.plot(X_train, y_train, 'ro', label = 'Original data')\n",
    "    plt.plot(X_train, weight * X_train + bias, label = 'Fitted line')\n",
    "    plt.legend()\n",
    "    plt.show()"
   ]
  },
  {
   "cell_type": "markdown",
   "metadata": {},
   "source": [
    "## MNIST Using Softmax"
   ]
  },
  {
   "cell_type": "markdown",
   "metadata": {},
   "source": [
    "MNIST is a simple computer vision dataset. It consists of images of handwritten digits like these:\n",
    "\n",
    "<img src='images/mnist.png'>\n",
    "\n",
    "Each image is 28 pixels by 28 pixels, which is essentially a $28 \\times 28$ array of numbers. To use it in a context of a machine learning problem, we can flatten this array into a vector of $28 \\times 28 = 784$, this will be the number of features for each image. It doesn't matter how we flatten the array, as long as we're consistent between images. Note that, flattening the data throws away information about the 2D structure of the image. Isn't that bad? Well, the best computer vision methods do exploit this structure. But the simple method we will be using here, a softmax regression (defined below), won't.\n",
    "\n",
    "The dataset also includes labels for each image, telling us the each image's label. For example, the labels for the above images are 5, 0, 4, and 1. Here we're going to train a softmax model to look at images and predict what digits they are. The possible label values in the MNIST dataset are numbers between 0 and 9, hence this will be a 10-class classification problem."
   ]
  },
  {
   "cell_type": "code",
   "execution_count": 11,
   "metadata": {},
   "outputs": [
    {
     "name": "stdout",
     "output_type": "stream",
     "text": [
      "60000 train samples\n",
      "10000 test samples\n"
     ]
    }
   ],
   "source": [
    "n_class = 10\n",
    "n_features = 784 # mnist is a 28 * 28 image\n",
    "\n",
    "# load the dataset and some preprocessing step that can be skipped\n",
    "(X_train, y_train), (X_test, y_test) = mnist.load_data()\n",
    "X_train = X_train.reshape(60000, n_features)\n",
    "X_test = X_test.reshape(10000, n_features)\n",
    "X_train = X_train.astype('float32')\n",
    "X_test = X_test.astype('float32')\n",
    "\n",
    "# images takes values between 0 - 255, we can normalize it\n",
    "# by dividing every number by 255\n",
    "X_train /= 255\n",
    "X_test /= 255\n",
    "\n",
    "print(X_train.shape[0], 'train samples')\n",
    "print(X_test.shape[0], 'test samples')"
   ]
  },
  {
   "cell_type": "code",
   "execution_count": 12,
   "metadata": {},
   "outputs": [],
   "source": [
    "# convert class vectors to binary class matrices (one-hot encoding)\n",
    "# note: you HAVE to to this step\n",
    "Y_train = np_utils.to_categorical(y_train, n_class)\n",
    "Y_test = np_utils.to_categorical(y_test , n_class)"
   ]
  },
  {
   "cell_type": "markdown",
   "metadata": {},
   "source": [
    "In the following code chunk, we define the overall computational graph/structure for the softmax classifier using the cross entropy cost function as the objective. Recall that the formula for this function can be denoted as:\n",
    "\n",
    "$$L = -\\sum_i y'_i \\log(y_i)$$\n",
    "\n",
    "Where y is our predicted probability distribution, and y′ is the true distribution."
   ]
  },
  {
   "cell_type": "code",
   "execution_count": 13,
   "metadata": {},
   "outputs": [],
   "source": [
    "# define some global variables\n",
    "learning_rate = 0.1 \n",
    "n_iterations = 400\n",
    "\n",
    "# define the input and output \n",
    "# here None means that a dimension can be of any length,\n",
    "# which is what we want, since the number of observations\n",
    "# we have can vary;\n",
    "# note that the shape argument to placeholder is optional, \n",
    "# but it allows TensorFlow to automatically catch bugs stemming \n",
    "# from inconsistent tensor shapes\n",
    "X = tf.placeholder(tf.float32, [None, n_features])\n",
    "y = tf.placeholder(tf.float32, [None, n_class])\n",
    "\n",
    "# initialize both W and b as tensors full of zeros. \n",
    "# these are parameters that the model is later going to learn,\n",
    "# Notice that W has a shape of [784, 10] because we want to multiply \n",
    "# the 784-dimensional image vectors by it to produce 10-dimensional \n",
    "# vectors of evidence for the difference classes. b has a shape of [10] \n",
    "# so we can add it to the output.\n",
    "W = tf.Variable(tf.zeros([n_features, n_class]))\n",
    "b = tf.Variable(tf.zeros([n_class]))"
   ]
  },
  {
   "cell_type": "markdown",
   "metadata": {},
   "source": [
    "```python\n",
    "# to define the softmax classifier and cross entropy cost\n",
    "# we can do the following\n",
    "\n",
    "# matrix multiplication using the .matmul command\n",
    "# and add the softmax output\n",
    "output = tf.nn.softmax(tf.matmul(X, W) + b)\n",
    "\n",
    "# cost function: cross entropy, the reduce mean is simply the average of the\n",
    "# cost function across all observations\n",
    "cross_entropy = tf.reduce_mean(-tf.reduce_sum(y * tf.log(output), axis = 1))\n",
    "\n",
    "```"
   ]
  },
  {
   "cell_type": "code",
   "execution_count": 14,
   "metadata": {},
   "outputs": [
    {
     "name": "stdout",
     "output_type": "stream",
     "text": [
      "WARNING:tensorflow:From <ipython-input-14-f12deee807bb>:4: softmax_cross_entropy_with_logits (from tensorflow.python.ops.nn_ops) is deprecated and will be removed in a future version.\n",
      "Instructions for updating:\n",
      "\n",
      "Future major versions of TensorFlow will allow gradients to flow\n",
      "into the labels input on backprop by default.\n",
      "\n",
      "See tf.nn.softmax_cross_entropy_with_logits_v2.\n",
      "\n"
     ]
    }
   ],
   "source": [
    "# but for numerical stability reason, the tensorflow documentation\n",
    "# suggests using the following function\n",
    "output = tf.matmul(X, W) + b\n",
    "cross_entropy = tf.reduce_mean(tf.nn.softmax_cross_entropy_with_logits(labels = y, logits = output))"
   ]
  },
  {
   "cell_type": "markdown",
   "metadata": {},
   "source": [
    "Now that we defined the structure of our model, we'll:\n",
    "\n",
    "1. Define a optimization algorithm the train it. In this case, we ask TensorFlow to minimize our defined cross_entropy cost using the gradient descent algorithm with a learning rate of 0.5. There are also other off the shelf [optimizers](https://www.tensorflow.org/api_guides/python/train#optimizers) that we can use that are faster for more complex models.\n",
    "2. We'll also add an operation to initialize the variables we created\n",
    "3. Define helper \"function\" to evaluate the prediction accuracy"
   ]
  },
  {
   "cell_type": "code",
   "execution_count": 15,
   "metadata": {},
   "outputs": [],
   "source": [
    "train_step = tf.train.GradientDescentOptimizer(learning_rate).minimize(cross_entropy)\n",
    "init = tf.global_variables_initializer()\n",
    "\n",
    "# here we're return the predicted class of each observation using argmax\n",
    "# and see if the ouput (prediction) is equal to the target variable (y)\n",
    "# since equal is a boolean type tensor, we cast it to a float type to compute\n",
    "# the actual accuracy\n",
    "correct_prediction = tf.equal(tf.argmax(y, axis = 1), tf.argmax(output, axis = 1))\n",
    "accuracy = tf.reduce_mean(tf.cast(correct_prediction, tf.float32))"
   ]
  },
  {
   "cell_type": "markdown",
   "metadata": {},
   "source": [
    "Now it's time to run it. During each step of the loop, we get a \"batch\" of one hundred random data points (defined by `batch_size`) from our training set. We run train_step feeding in the batches data to replace the placeholders.\n",
    "\n",
    "Using small batches of random data is called stochastic training -- in this case, stochastic gradient descent. Ideally, we'd like to use all our data for every step of training because that would give us a better sense of what we should be doing, but that's expensive. So, instead, we use a different subset every time. Doing this is cheap and has much of the same benefit."
   ]
  },
  {
   "cell_type": "code",
   "execution_count": 16,
   "metadata": {
    "scrolled": true
   },
   "outputs": [
    {
     "name": "stdout",
     "output_type": "stream",
     "text": [
      "0.09871667\n",
      "0.84145\n",
      "0.8613333\n",
      "0.87055\n",
      "0.87721664\n",
      "0.88168335\n",
      "0.88545\n",
      "0.8884\n",
      "test: 0.8906\n"
     ]
    }
   ],
   "source": [
    "with tf.Session() as sess: \n",
    "    # initialize the variable, train the \"batch\" gradient descent\n",
    "    # for a specified number of iterations and evaluate on accuracy score\n",
    "    # remember the key to the feed_dict dictionary must match the variable we use\n",
    "    # as the placeholder for the data in the beginning\n",
    "    sess.run(init)\n",
    "    for i in range(n_iterations):\n",
    "        # X_batch, y_batch = mnist.train.next_batch(batch_size)\n",
    "        _, acc = sess.run([train_step, accuracy], feed_dict = {X: X_train, y: Y_train})\n",
    "        \n",
    "        # simply prints the training data's accuracy for every n iteration\n",
    "        if i % 50 == 0:\n",
    "            print(acc)\n",
    "    \n",
    "    # after training evaluate the accuracy on the testing data\n",
    "    acc = sess.run(accuracy, feed_dict = {X: X_train, y: Y_train})\n",
    "    print('test:', acc)"
   ]
  },
  {
   "cell_type": "markdown",
   "metadata": {},
   "source": [
    "Notice that we did not have to worry about computing the gradient to update the model, the nice thing about Tensorflow is that, once we've defined the structure of our model it has the capability to automatically differentiate mathematical expressions. This means we no longer need to compute the gradients ourselves! In this example, our softmax classifier obtained pretty nice result around 90%. But we can certainly do better with more advanced techniques such as convolutional deep learning."
   ]
  },
  {
   "cell_type": "markdown",
   "metadata": {},
   "source": [
    "# Reference"
   ]
  },
  {
   "cell_type": "markdown",
   "metadata": {},
   "source": [
    "- [Blog: What is a TensorFlow Session?](http://danijar.com/what-is-a-tensorflow-session/)\n",
    "- [Github: Tensorflow Examples - Linear Regression](https://github.com/aymericdamien/TensorFlow-Examples/blob/master/notebooks/2_BasicModels/linear_regression.ipynb)\n",
    "- [Tensorflow Documentation: Getting Started With TensorFlow](https://www.tensorflow.org/get_started/get_started)\n",
    "- [TensorFlow Documentation: MNIST For ML Beginners](https://www.tensorflow.org/get_started/mnist/beginners)"
   ]
  }
 ],
 "metadata": {
  "anaconda-cloud": {},
  "hide_input": false,
  "kernelspec": {
   "display_name": "trainingAI",
   "language": "python",
   "name": "trainingai"
  },
  "language_info": {
   "codemirror_mode": {
    "name": "ipython",
    "version": 3
   },
   "file_extension": ".py",
   "mimetype": "text/x-python",
   "name": "python",
   "nbconvert_exporter": "python",
   "pygments_lexer": "ipython3",
   "version": "3.8.5"
  },
  "toc": {
   "nav_menu": {
    "height": "169px",
    "width": "252px"
   },
   "number_sections": true,
   "sideBar": true,
   "skip_h1_title": false,
   "title_cell": "Table of Contents",
   "title_sidebar": "Contents",
   "toc_cell": true,
   "toc_position": {},
   "toc_section_display": "block",
   "toc_window_display": true
  },
  "varInspector": {
   "cols": {
    "lenName": 16,
    "lenType": 16,
    "lenVar": 40
   },
   "kernels_config": {
    "python": {
     "delete_cmd_postfix": "",
     "delete_cmd_prefix": "del ",
     "library": "var_list.py",
     "varRefreshCmd": "print(var_dic_list())"
    },
    "r": {
     "delete_cmd_postfix": ") ",
     "delete_cmd_prefix": "rm(",
     "library": "var_list.r",
     "varRefreshCmd": "cat(var_dic_list()) "
    }
   },
   "types_to_exclude": [
    "module",
    "function",
    "builtin_function_or_method",
    "instance",
    "_Feature"
   ],
   "window_display": false
  }
 },
 "nbformat": 4,
 "nbformat_minor": 1
}
