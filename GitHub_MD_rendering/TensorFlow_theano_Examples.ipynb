{
 "cells": [
  {
   "cell_type": "code",
   "execution_count": 1,
   "metadata": {},
   "outputs": [
    {
     "data": {
      "text/plain": [
       "'\\nWhat? Simple examples in TensorFlow\\n\\nDate: 03/12/12\\nReference:\\nGLM\\n'"
      ]
     },
     "execution_count": 1,
     "metadata": {},
     "output_type": "execute_result"
    }
   ],
   "source": [
    "\"\"\"\n",
    "What? Simple examples in TensorFlow\n",
    "\n",
    "\n",
    "Reference:\n",
    "This link explains why we are using compact.v1\n",
    "https://stackoverflow.com/questions/37383812/tensorflow-module-object-has-no-attribute-placeholder\n",
    "This link explains why we are disabling the eager exexution\n",
    "\"\"\""
   ]
  },
  {
   "cell_type": "code",
   "execution_count": 1,
   "metadata": {},
   "outputs": [
    {
     "name": "stdout",
     "output_type": "stream",
     "text": [
      "TensorFlow version:  2.3.0\n",
      "Theano version:  1.0.5\n"
     ]
    }
   ],
   "source": [
    "# Import python modules\n",
    "#import tensorflow as tf\n",
    "import tensorflow.compat.v1 as tf\n",
    "tf.compat.v1.disable_eager_execution()\n",
    "print(\"TensorFlow version: \", tf.__version__)\n",
    "import theano\n",
    "from theano import tensor\n",
    "print(\"Theano version: \", theano.__version__)"
   ]
  },
  {
   "cell_type": "markdown",
   "metadata": {},
   "source": [
    "### TensorFlow"
   ]
  },
  {
   "cell_type": "code",
   "execution_count": 6,
   "metadata": {},
   "outputs": [
    {
     "name": "stdout",
     "output_type": "stream",
     "text": [
      "4.0\n"
     ]
    }
   ],
   "source": [
    "# declare two symbolic floating-point scalars\n",
    "a = tf.placeholder(tf.float32)\n",
    "b = tf.placeholder(tf.float32)\n",
    "\n",
    "\n",
    "# create a simple symbolic expression using the add function \n",
    "add = tf.add(a, b)\n",
    "\n",
    "# Bind 1.5 to a, 2.5 to b, and evaluate c\n",
    "sess = tf.Session()\n",
    "binding = {a: 1.5, b: 2.5}\n",
    "c = sess.run(add, feed_dict=binding)\n",
    "print(c)"
   ]
  },
  {
   "cell_type": "code",
   "execution_count": null,
   "metadata": {},
   "outputs": [],
   "source": [
    "\"\"\"\n",
    "In this example we define two symbolic floating point variables a and b. \n",
    "We define an expression that uses these variables (c = a + b). We then \n",
    "compile this symbolic expression into a function using TensorFlow that \n",
    "we can use later. Finally, we use our complied expression by plugging \n",
    "in some real values and performing the calculation using e\u0000cient compiled\n",
    "TensorFlow code under the covers.\n",
    "\"\"\""
   ]
  },
  {
   "cell_type": "markdown",
   "metadata": {},
   "source": [
    "### Theano"
   ]
  },
  {
   "cell_type": "code",
   "execution_count": null,
   "metadata": {},
   "outputs": [],
   "source": [
    "# Declare two symbolic floating-point scalars\n",
    "a = tensor.dscalar()\n",
    "b = tensor.dscalar()\n",
    "\n",
    "# Create a simple symbolic expression\n",
    "c=a+b\n",
    "\n",
    "# Convert the expression into a callable object that takes (a,b) and computes c\n",
    "f = theano.function([a,b], c)\n",
    "\n",
    "# Bind 1.5 to a, 2.5 to b, and evaluate c\n",
    "result = f(1.5, 2.5)\n",
    "print(result)"
   ]
  }
 ],
 "metadata": {
  "hide_input": false,
  "kernelspec": {
   "display_name": "trainingAI",
   "language": "python",
   "name": "trainingai"
  },
  "language_info": {
   "codemirror_mode": {
    "name": "ipython",
    "version": 3
   },
   "file_extension": ".py",
   "mimetype": "text/x-python",
   "name": "python",
   "nbconvert_exporter": "python",
   "pygments_lexer": "ipython3",
   "version": "3.8.5"
  }
 },
 "nbformat": 4,
 "nbformat_minor": 2
}
